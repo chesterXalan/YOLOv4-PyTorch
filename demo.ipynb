{
 "cells": [
  {
   "cell_type": "code",
   "execution_count": 1,
   "id": "1ad6b8c5-f6f6-4b37-b8e4-26596184533a",
   "metadata": {},
   "outputs": [],
   "source": [
    "import cv2\n",
    "import numpy as np\n",
    "import torch\n",
    "from pathlib import Path\n",
    "\n",
    "from tools.darknet2pytorch import Darknet\n",
    "from tools.torch_utils import do_detect"
   ]
  },
  {
   "cell_type": "code",
   "execution_count": 2,
   "id": "65c0d9cd-520d-48bf-8191-2b5d9f658118",
   "metadata": {},
   "outputs": [],
   "source": [
    "def readNamesFile(self, nf):\n",
    "    with open(nf, 'r', encoding='utf-8') as f:\n",
    "        names = [line.rstrip() for line in f.readlines()]\n",
    "    self.names = {i: s for i, s in enumerate(names)}"
   ]
  },
  {
   "cell_type": "code",
   "execution_count": 3,
   "id": "4408fe1e-b267-4c2a-8933-15940cb24d0b",
   "metadata": {},
   "outputs": [
    {
     "name": "stdout",
     "output_type": "stream",
     "text": [
      "<yolov4> model loaded.\n"
     ]
    }
   ],
   "source": [
    "model_name = 'yolov4'\n",
    "model_dir = Path('models', model_name)\n",
    "config_file = Path(model_dir, f'{model_name}.cfg')\n",
    "weights_file = Path(model_dir, f'{model_name}.weights')\n",
    "names_file = Path(model_dir, 'coco.names')  \n",
    "\n",
    "net = Darknet(config_file).cuda().eval()\n",
    "net.load_weights(weights_file)\n",
    "net_size = (net.width, net.height)\n",
    "\n",
    "with open(names_file, 'r') as f:\n",
    "    classes = [line.rstrip() for line in f.readlines()]\n",
    "\n",
    "print(f'<{model_name}> model loaded.')"
   ]
  },
  {
   "cell_type": "code",
   "execution_count": 4,
   "id": "789f878d-4740-44a0-a190-4e77b01939a7",
   "metadata": {},
   "outputs": [],
   "source": [
    "import colorsys, random\n",
    "\n",
    "def draw_bbox(image, bboxes, classes=classes, show_label=True):\n",
    "    num_classes = len(classes)\n",
    "    image_h, image_w, _ = image.shape\n",
    "    hsv_tuples = [(1.0 * x / num_classes, 1., 1.) for x in range(num_classes)]\n",
    "    colors = list(map(lambda x: colorsys.hsv_to_rgb(*x), hsv_tuples))\n",
    "    colors = list(map(lambda x: (int(x[0] * 255), int(x[1] * 255), int(x[2] * 255)), colors))\n",
    "\n",
    "    random.seed(0)\n",
    "    random.shuffle(colors)\n",
    "    random.seed(None)\n",
    "\n",
    "    for bbox in bboxes:\n",
    "        x1 = int(bbox[0] * image_w)\n",
    "        y1 = int(bbox[1] * image_h)\n",
    "        x2 = int(bbox[2] * image_w)\n",
    "        y2 = int(bbox[3] * image_h)\n",
    "        score = bbox[4]\n",
    "        obj = bbox[5]\n",
    "        \n",
    "        bbox_color = colors[obj]\n",
    "        bbox_thick = int(0.6 * (image_h + image_w) / 600)\n",
    "        c1, c2 = (x1, y1), (x2, y2)\n",
    "        cv2.rectangle(image, c1, c2, bbox_color, bbox_thick)\n",
    "\n",
    "        if show_label:\n",
    "            fontScale = 0.5\n",
    "            bbox_mess = '%s: %.2f' % (classes[obj], score)\n",
    "            t_size = cv2.getTextSize(bbox_mess, 0, fontScale, thickness=bbox_thick // 2)[0]\n",
    "            c3 = (c1[0] + t_size[0], c1[1] - t_size[1] - 3)\n",
    "            cv2.rectangle(image, c1, (c3[0], c3[1]), bbox_color, -1) #filled\n",
    "            cv2.putText(image, bbox_mess, (c1[0], c1[1] - 2), cv2.FONT_HERSHEY_SIMPLEX,\n",
    "                        fontScale, (0, 0, 0), bbox_thick // 2, lineType=cv2.LINE_AA)\n",
    "    return image"
   ]
  },
  {
   "cell_type": "code",
   "execution_count": 7,
   "id": "82e99d1e-4ce6-4e12-b480-506da93be57c",
   "metadata": {
    "scrolled": true,
    "tags": []
   },
   "outputs": [],
   "source": [
    "data_dir = 'data'\n",
    "image_path = Path(data_dir, 'kite.jpg')\n",
    "image = cv2.cvtColor(cv2.imread(str(image_path)), cv2.COLOR_BGR2RGB)\n",
    "\n",
    "bboxes = do_detect(net, cv2.resize(image, net_size), .6, .5)[0]"
   ]
  },
  {
   "cell_type": "code",
   "execution_count": 8,
   "id": "4119c204-c3ea-4aff-81a3-783e74fcbb3d",
   "metadata": {},
   "outputs": [],
   "source": [
    "image_result = draw_bbox(image.copy(), bboxes)\n",
    "cv2.imshow('demo', cv2.cvtColor(image_result, cv2.COLOR_BGR2RGB))\n",
    "cv2.waitKey(0)\n",
    "cv2.destroyAllWindows()"
   ]
  },
  {
   "cell_type": "code",
   "execution_count": null,
   "id": "fbaae6be-13dc-49db-94ec-28daf820d6d0",
   "metadata": {},
   "outputs": [],
   "source": []
  }
 ],
 "metadata": {
  "kernelspec": {
   "display_name": "pytorch-1-12",
   "language": "python",
   "name": "pytorch-1-12"
  },
  "language_info": {
   "codemirror_mode": {
    "name": "ipython",
    "version": 3
   },
   "file_extension": ".py",
   "mimetype": "text/x-python",
   "name": "python",
   "nbconvert_exporter": "python",
   "pygments_lexer": "ipython3",
   "version": "3.8.13"
  }
 },
 "nbformat": 4,
 "nbformat_minor": 5
}
